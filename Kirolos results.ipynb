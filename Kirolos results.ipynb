{
 "cells": [
  {
   "cell_type": "code",
   "execution_count": 4,
   "outputs": [
    {
     "ename": "KeyboardInterrupt",
     "evalue": "",
     "output_type": "error",
     "traceback": [
      "\u001B[1;31m---------------------------------------------------------------------------\u001B[0m",
      "\u001B[1;31mKeyboardInterrupt\u001B[0m                         Traceback (most recent call last)",
      "Cell \u001B[1;32mIn[4], line 5\u001B[0m\n\u001B[0;32m      3\u001B[0m \u001B[38;5;28;01mfor\u001B[39;00m image_name \u001B[38;5;129;01min\u001B[39;00m os\u001B[38;5;241m.\u001B[39mlistdir(\u001B[38;5;124m'\u001B[39m\u001B[38;5;124mdatasets/COCO/test2017\u001B[39m\u001B[38;5;124m'\u001B[39m):\n\u001B[0;32m      4\u001B[0m     \u001B[38;5;28;01mif\u001B[39;00m image_name\u001B[38;5;241m.\u001B[39mendswith(\u001B[38;5;124m'\u001B[39m\u001B[38;5;124m.jpg\u001B[39m\u001B[38;5;124m'\u001B[39m):\n\u001B[1;32m----> 5\u001B[0m         \u001B[43mos\u001B[49m\u001B[38;5;241;43m.\u001B[39;49m\u001B[43msystem\u001B[49m\u001B[43m(\u001B[49m\u001B[38;5;124;43mf\u001B[39;49m\u001B[38;5;124;43m'\u001B[39;49m\u001B[38;5;124;43mpython tools/demo.py image -n yolox-s -c yolox_s.pth --path datasets/COCO/test2017/\u001B[39;49m\u001B[38;5;132;43;01m{\u001B[39;49;00m\u001B[43mimage_name\u001B[49m\u001B[38;5;132;43;01m}\u001B[39;49;00m\u001B[38;5;124;43m --conf 0.25 --nms 0.45 --tsize 640 --save_result --device gpu\u001B[39;49m\u001B[38;5;124;43m'\u001B[39;49m\u001B[43m)\u001B[49m\n",
      "\u001B[1;31mKeyboardInterrupt\u001B[0m: "
     ]
    }
   ],
   "source": [
    "import os\n",
    "\n",
    "for image_name in os.listdir('datasets/COCO/test2017'):\n",
    "    if image_name.endswith('.jpg'):\n",
    "        os.system(f'python tools/demo.py image -n yolox-s -c yolox_s.pth --path datasets/COCO/test2017/{image_name} --conf 0.25 --nms 0.45 --tsize 640 --save_result --device gpu')\n"
   ],
   "metadata": {
    "collapsed": false,
    "ExecuteTime": {
     "end_time": "2023-05-29T14:45:15.818049Z",
     "start_time": "2023-05-29T14:44:46.148357400Z"
    }
   }
  },
  {
   "cell_type": "code",
   "execution_count": 10,
   "outputs": [],
   "source": [
    "# load json file datasets/annotations/captions_val2017.json\n",
    "# and save the image id and caption in a dataframe\n",
    "import json\n",
    "import pandas as pd\n",
    "# JSON file\n",
    "f = open ('datasets/annotations/instances_val2017.json', \"r\")\n",
    "\n",
    "# Reading from file\n",
    "data = json.loads(f.read())\n",
    "data.keys()"
   ],
   "metadata": {
    "collapsed": false
   }
  },
  {
   "cell_type": "code",
   "execution_count": 7,
   "outputs": [],
   "source": [
    "data['annotations'][0]"
   ],
   "metadata": {
    "collapsed": false
   }
  },
  {
   "cell_type": "code",
   "execution_count": 8,
   "outputs": [
    {
     "data": {
      "text/plain": "{'license': 4,\n 'file_name': '000000397133.jpg',\n 'coco_url': 'http://images.cocodataset.org/val2017/000000397133.jpg',\n 'height': 427,\n 'width': 640,\n 'date_captured': '2013-11-14 17:02:52',\n 'flickr_url': 'http://farm7.staticflickr.com/6116/6255196340_da26cf2c9e_z.jpg',\n 'id': 397133}"
     },
     "execution_count": 8,
     "metadata": {},
     "output_type": "execute_result"
    }
   ],
   "source": [
    "data['images'][0]"
   ],
   "metadata": {
    "collapsed": false
   }
  },
  {
   "cell_type": "code",
   "execution_count": null,
   "outputs": [],
   "source": [],
   "metadata": {
    "collapsed": false
   }
  },
  {
   "cell_type": "code",
   "execution_count": 11,
   "outputs": [],
   "source": [
    "COCO_dataset_classes={0: 'person', 1: 'bicycle', 2: 'car', 3: 'motorcycle', 4: 'airplane', 5: 'bus', 6: 'train', 7: 'truck', 8: 'boat', 9: 'traffic light', 10: 'fire hydrant', 11: 'stop sign', 12: 'parking meter', 13: 'bench', 14: 'bird', 15: 'cat', 16: 'dog', 17: 'horse', 18: 'sheep', 19: 'cow', 20: 'elephant', 21: 'bear', 22: 'zebra', 23: 'giraffe', 24: 'backpack', 25: 'umbrella', 26: 'handbag', 27: 'tie', 28: 'suitcase', 29: 'frisbee', 30: 'skis', 31: 'snowboard', 32: 'sports ball', 33: 'kite', 34: 'baseball bat', 35: 'baseball glove', 36: 'skateboard', 37: 'surfboard', 38: 'tennis racket', 39: 'bottle', 40: 'wine glass', 41: 'cup', 42: 'fork', 43: 'knife', 44: 'spoon', 45: 'bowl', 46: 'banana', 47: 'apple', 48: 'sandwich', 49: 'orange', 50: 'broccoli', 51: 'carrot', 52: 'hot dog', 53: 'pizza', 54: 'donut', 55: 'cake', 56: 'chair', 57: 'couch', 58: 'potted plant', 59: 'bed', 60: 'dining table', 61: 'toilet', 62: 'tv', 63: 'laptop', 64: 'mouse', 65: 'remote', 66: 'keyboard', 67: 'cell phone', 68: 'microwave', 69: 'oven', 70: 'toaster', 71: 'sink', 72: 'refrigerator', 73: 'book', 74: 'clock', 75: 'vase', 76: 'scissors', 77: 'teddy bear', 78: 'hair drier', 79: 'toothbrush'}\n",
    "from sahi.utils.coco import Coco, CocoCategory, CocoImage, CocoAnnotation\n",
    "from sahi.utils.file import save_json\n",
    "coco = Coco()\n",
    "save_path = 'datasets/annotations/custom.json'\n",
    "for i in range(80):\n",
    "    coco.add_category(CocoCategory(id=i, name=COCO_dataset_classes[i]))\n",
    "def add_image(img_info, output):\n",
    "    coco_image = CocoImage(file_name=img_info['file_name'], height=img_info['height'], width=img_info['width'], id=img_info['id'])\n",
    "    ratio = img_info[\"ratio\"]\n",
    "    img = img_info[\"raw_img\"]\n",
    "    if output is None:\n",
    "        return img\n",
    "    output = output.cpu()\n",
    "\n",
    "    bboxes = output[:, 0:4]\n",
    "\n",
    "    # preprocessing: resize\n",
    "    bboxes /= ratio\n",
    "    cls = output[:, 6]\n",
    "    for i in range(len(bboxes)):\n",
    "        coco_image.add_annotation(\n",
    "            CocoAnnotation(\n",
    "                bbox=bboxes[i],\n",
    "                category_id=cls[i],\n",
    "                category_name=coco.get_category_name(cls[i]),\n",
    "            )\n",
    "        )\n",
    "    coco.add_image(coco_image)\n",
    "    save_json(data=coco.json, save_path=save_path)"
   ],
   "metadata": {
    "collapsed": false,
    "ExecuteTime": {
     "end_time": "2023-05-29T15:32:25.361239200Z",
     "start_time": "2023-05-29T15:32:21.345417200Z"
    }
   }
  },
  {
   "cell_type": "code",
   "execution_count": null,
   "outputs": [],
   "source": [
    "def dataset2coco(df):\n",
    "\n",
    "    annotion_id = 0\n",
    "\n",
    "    annotations_json = {\n",
    "        \"info\": [],\n",
    "        \"licenses\": [],\n",
    "        \"categories\": [],\n",
    "        \"images\": [],\n",
    "        \"annotations\": []\n",
    "    }\n",
    "\n",
    "    info = {\n",
    "        \"year\": \"2021\",\n",
    "        \"version\": \"1\",\n",
    "        \"description\": \"COTS dataset - COCO format\",\n",
    "        \"contributor\": \"\",\n",
    "        \"url\": \"https://kaggle.com\",\n",
    "        \"date_created\": \"2022-01-29T15:01:26+00:00\"\n",
    "    }\n",
    "    annotations_json[\"info\"].append(info)\n",
    "\n",
    "    lic = {\n",
    "            \"id\": 1,\n",
    "            \"url\": \"\",\n",
    "            \"name\": \"Unknown\"\n",
    "        }\n",
    "    annotations_json[\"licenses\"].append(lic)\n",
    "\n",
    "    classes = {\"id\": 0, \"name\": \"starfish\", \"supercategory\": \"none\"}\n",
    "\n",
    "    annotations_json[\"categories\"].append(classes)\n",
    "\n",
    "\n",
    "    for ann_row in df.itertuples():\n",
    "\n",
    "        images = {\n",
    "            \"id\": ann_row[0],\n",
    "            \"license\": 1,\n",
    "            \"file_name\": str(ann_row[5]) + '.jpg', # use the image id with video information\n",
    "            \"height\": 720,\n",
    "            \"width\": 1280,\n",
    "            \"date_captured\": \"2021-11-30T15:01:26+00:00\"\n",
    "        }\n",
    "\n",
    "        annotations_json[\"images\"].append(images)\n",
    "\n",
    "        for bbox in ann_row.annotations:\n",
    "            # some boxes in COTS are outside the image height and width\n",
    "            if (bbox['x'] + bbox['width'] > 1280):\n",
    "                b_width = bbox['x'] - 1280\n",
    "            if (bbox['y'] + bbox['height'] > 720):\n",
    "                b_height = bbox['y'] - 720\n",
    "\n",
    "            image_annotations = {\n",
    "                \"id\": annotion_id,\n",
    "                \"image_id\": ann_row[0],\n",
    "                \"category_id\": 0,\n",
    "                \"bbox\": [bbox['x'], bbox['y'], bbox['width'], bbox['height']],\n",
    "                \"area\": bbox['width'] * bbox['height'],\n",
    "                \"segmentation\": [],\n",
    "                \"iscrowd\": 0\n",
    "            }\n",
    "\n",
    "            annotion_id += 1\n",
    "            annotations_json[\"annotations\"].append(image_annotations)\n",
    "\n",
    "\n",
    "    print(f\"Dataset COTS annotation to COCO json format completed! Files: {len(df)}\")\n",
    "    return annotations_json"
   ],
   "metadata": {
    "collapsed": false
   }
  },
  {
   "cell_type": "code",
   "execution_count": null,
   "outputs": [],
   "source": [
    "from pycocotools.coco import COCO\n",
    "from pycocotools.cocoeval import COCOeval\n",
    "\n",
    "# Path to your test2017.json file\n",
    "annotation_file = 'path/to/test2017.json'\n",
    "\n",
    "# Path to the ground truth annotations file for the COCO test dataset\n",
    "gt_file = 'datasets/annotations/image_info_test2017.json'\n",
    "\n",
    "# Create a COCO object for the ground truth annotations\n",
    "coco_gt = COCO(gt_file)\n",
    "\n",
    "# Load the predictions in COCO format\n",
    "coco_dt = coco_gt.loadRes(annotation_file)\n",
    "\n",
    "# Create a COCOeval object for evaluation\n",
    "coco_eval = COCOeval(coco_gt, coco_dt, 'bbox')\n",
    "\n",
    "# Run the evaluation\n",
    "coco_eval.evaluate()\n",
    "coco_eval.accumulate()\n",
    "coco_eval.summarize()"
   ],
   "metadata": {
    "collapsed": false
   }
  }
 ],
 "metadata": {
  "kernelspec": {
   "display_name": "Python 3",
   "language": "python",
   "name": "python3"
  },
  "language_info": {
   "codemirror_mode": {
    "name": "ipython",
    "version": 2
   },
   "file_extension": ".py",
   "mimetype": "text/x-python",
   "name": "python",
   "nbconvert_exporter": "python",
   "pygments_lexer": "ipython2",
   "version": "2.7.6"
  }
 },
 "nbformat": 4,
 "nbformat_minor": 0
}
